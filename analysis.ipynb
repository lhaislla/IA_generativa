{
 "cells": [
  {
   "cell_type": "code",
   "execution_count": 1,
   "metadata": {},
   "outputs": [],
   "source": [
    "import pandas as pd\n",
    "import numpy as np\n",
    "import os"
   ]
  },
  {
   "cell_type": "code",
   "execution_count": null,
   "metadata": {},
   "outputs": [],
   "source": [
    "# Apenas rodar esse notebook após capturar resultados dos modelo de AI Gen que estará em \"./results\""
   ]
  },
  {
   "cell_type": "code",
   "execution_count": 2,
   "metadata": {},
   "outputs": [],
   "source": [
    "results = sorted(os.listdir(\"./result\"), key=lambda x: int(x.split(\"_\")[1]))"
   ]
  },
  {
   "cell_type": "code",
   "execution_count": 18,
   "metadata": {},
   "outputs": [],
   "source": [
    "df = pd.DataFrame()"
   ]
  },
  {
   "cell_type": "code",
   "execution_count": 3,
   "metadata": {},
   "outputs": [],
   "source": [
    "df = pd.DataFrame()\n",
    "\n",
    "for i, path in enumerate(results):\n",
    "\n",
    "    df_result_range = pd.read_csv(f\"result/{path}\" ,sep =\";\")\n",
    "\n",
    "    if (i+1) % 14 == 0:\n",
    "        df_result_range = df_result_range.iloc[:5,:]\n",
    "\n",
    "    df = pd.concat([df, df_result_range])"
   ]
  },
  {
   "cell_type": "code",
   "execution_count": null,
   "metadata": {},
   "outputs": [],
   "source": []
  },
  {
   "cell_type": "code",
   "execution_count": 4,
   "metadata": {},
   "outputs": [],
   "source": [
    "real_label_eggs = pd.read_excel(\"./IAGenOvoscopia/OVOSCOPIA-1RODADA - Sem 28dias.xlsx\")\n",
    "real_label_eggs.columns = [\"N_OVO\", \"OVOSCOPIA\", 'TEMPO', 'observações']"
   ]
  },
  {
   "cell_type": "code",
   "execution_count": 5,
   "metadata": {},
   "outputs": [],
   "source": [
    "df = df.rename(columns={'number': 'N_OVO', 'classification': 'predict'})\n",
    "df['N_OVO'] = range(1,801)"
   ]
  },
  {
   "cell_type": "code",
   "execution_count": 6,
   "metadata": {},
   "outputs": [],
   "source": [
    "from sklearn.metrics import classification_report\n",
    "from sklearn.metrics import confusion_matrix"
   ]
  },
  {
   "cell_type": "code",
   "execution_count": 7,
   "metadata": {},
   "outputs": [],
   "source": [
    "final_df = real_label_eggs.merge(df)"
   ]
  },
  {
   "cell_type": "code",
   "execution_count": 9,
   "metadata": {},
   "outputs": [],
   "source": [
    "cf_matrix = confusion_matrix(final_df['OVOSCOPIA'], final_df['predict'])"
   ]
  },
  {
   "cell_type": "code",
   "execution_count": 12,
   "metadata": {},
   "outputs": [
    {
     "name": "stdout",
     "output_type": "stream",
     "text": [
      "              precision    recall  f1-score   support\n",
      "\n",
      "           1       0.23      0.84      0.36       184\n",
      "           2       0.43      0.15      0.23       312\n",
      "           3       0.25      0.01      0.02       210\n",
      "           4       0.00      0.00      0.00        94\n",
      "\n",
      "    accuracy                           0.26       800\n",
      "   macro avg       0.23      0.25      0.15       800\n",
      "weighted avg       0.29      0.26      0.18       800\n",
      "\n"
     ]
    }
   ],
   "source": [
    "print(classification_report(final_df['OVOSCOPIA'], final_df['predict']))"
   ]
  }
 ],
 "metadata": {
  "kernelspec": {
   "display_name": ".venv",
   "language": "python",
   "name": "python3"
  },
  "language_info": {
   "codemirror_mode": {
    "name": "ipython",
    "version": 3
   },
   "file_extension": ".py",
   "mimetype": "text/x-python",
   "name": "python",
   "nbconvert_exporter": "python",
   "pygments_lexer": "ipython3",
   "version": "3.12.2"
  }
 },
 "nbformat": 4,
 "nbformat_minor": 2
}
