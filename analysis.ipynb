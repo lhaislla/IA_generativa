{
 "cells": [
  {
   "cell_type": "code",
   "execution_count": 18,
   "metadata": {},
   "outputs": [],
   "source": [
    "import pandas as pd\n",
    "import numpy as np\n",
    "import os"
   ]
  },
  {
   "cell_type": "code",
   "execution_count": 19,
   "metadata": {},
   "outputs": [],
   "source": [
    "# Apenas rodar esse notebook após capturar resultados dos modelo de AI Gen que estará em \"./results\""
   ]
  },
  {
   "cell_type": "code",
   "execution_count": 20,
   "metadata": {},
   "outputs": [],
   "source": [
    "results = sorted(os.listdir(\"./result\"), key=lambda x: int(x.split(\"_\")[1]))"
   ]
  },
  {
   "cell_type": "code",
   "execution_count": 21,
   "metadata": {},
   "outputs": [],
   "source": [
    "df = pd.DataFrame()"
   ]
  },
  {
   "cell_type": "code",
   "execution_count": 22,
   "metadata": {},
   "outputs": [],
   "source": [
    "df = pd.DataFrame()\n",
    "\n",
    "for i, path in enumerate(results):\n",
    "\n",
    "    df_result_range = pd.read_csv(f\"result/{path}\" ,sep =\";\")\n",
    "\n",
    "    if (i+1) % 14 == 0:\n",
    "        df_result_range = df_result_range.iloc[:5,:]\n",
    "\n",
    "    df = pd.concat([df, df_result_range])"
   ]
  },
  {
   "cell_type": "code",
   "execution_count": 23,
   "metadata": {},
   "outputs": [
    {
     "data": {
      "text/html": [
       "<div>\n",
       "<style scoped>\n",
       "    .dataframe tbody tr th:only-of-type {\n",
       "        vertical-align: middle;\n",
       "    }\n",
       "\n",
       "    .dataframe tbody tr th {\n",
       "        vertical-align: top;\n",
       "    }\n",
       "\n",
       "    .dataframe thead th {\n",
       "        text-align: right;\n",
       "    }\n",
       "</style>\n",
       "<table border=\"1\" class=\"dataframe\">\n",
       "  <thead>\n",
       "    <tr style=\"text-align: right;\">\n",
       "      <th></th>\n",
       "      <th>number</th>\n",
       "      <th>classification</th>\n",
       "    </tr>\n",
       "  </thead>\n",
       "  <tbody>\n",
       "    <tr>\n",
       "      <th>0</th>\n",
       "      <td>1</td>\n",
       "      <td>1</td>\n",
       "    </tr>\n",
       "    <tr>\n",
       "      <th>1</th>\n",
       "      <td>2</td>\n",
       "      <td>1</td>\n",
       "    </tr>\n",
       "    <tr>\n",
       "      <th>2</th>\n",
       "      <td>3</td>\n",
       "      <td>1</td>\n",
       "    </tr>\n",
       "    <tr>\n",
       "      <th>3</th>\n",
       "      <td>4</td>\n",
       "      <td>2</td>\n",
       "    </tr>\n",
       "    <tr>\n",
       "      <th>4</th>\n",
       "      <td>5</td>\n",
       "      <td>1</td>\n",
       "    </tr>\n",
       "    <tr>\n",
       "      <th>...</th>\n",
       "      <td>...</td>\n",
       "      <td>...</td>\n",
       "    </tr>\n",
       "    <tr>\n",
       "      <th>0</th>\n",
       "      <td>826</td>\n",
       "      <td>1</td>\n",
       "    </tr>\n",
       "    <tr>\n",
       "      <th>1</th>\n",
       "      <td>827</td>\n",
       "      <td>1</td>\n",
       "    </tr>\n",
       "    <tr>\n",
       "      <th>2</th>\n",
       "      <td>828</td>\n",
       "      <td>1</td>\n",
       "    </tr>\n",
       "    <tr>\n",
       "      <th>3</th>\n",
       "      <td>829</td>\n",
       "      <td>1</td>\n",
       "    </tr>\n",
       "    <tr>\n",
       "      <th>4</th>\n",
       "      <td>830</td>\n",
       "      <td>1</td>\n",
       "    </tr>\n",
       "  </tbody>\n",
       "</table>\n",
       "<p>800 rows × 2 columns</p>\n",
       "</div>"
      ],
      "text/plain": [
       "    number  classification\n",
       "0        1               1\n",
       "1        2               1\n",
       "2        3               1\n",
       "3        4               2\n",
       "4        5               1\n",
       "..     ...             ...\n",
       "0      826               1\n",
       "1      827               1\n",
       "2      828               1\n",
       "3      829               1\n",
       "4      830               1\n",
       "\n",
       "[800 rows x 2 columns]"
      ]
     },
     "execution_count": 23,
     "metadata": {},
     "output_type": "execute_result"
    }
   ],
   "source": [
    "df"
   ]
  },
  {
   "cell_type": "code",
   "execution_count": 24,
   "metadata": {},
   "outputs": [],
   "source": [
    "real_label_eggs = pd.read_excel(\"./IAGenOvoscopia/OVOSCOPIA-1RODADA - Sem 28dias.xlsx\")\n",
    "real_label_eggs.columns = [\"N_OVO\", \"OVOSCOPIA\", 'TEMPO', 'observações']"
   ]
  },
  {
   "cell_type": "code",
   "execution_count": 25,
   "metadata": {},
   "outputs": [],
   "source": [
    "df = df.rename(columns={'number': 'N_OVO', 'classification': 'predict'})\n",
    "#df['N_OVO'] = range(1,801)\n",
    "df['N_OVO'] = range(1, len(df) + 1)\n"
   ]
  },
  {
   "cell_type": "code",
   "execution_count": 26,
   "metadata": {},
   "outputs": [],
   "source": [
    "from sklearn.metrics import classification_report\n",
    "from sklearn.metrics import confusion_matrix"
   ]
  },
  {
   "cell_type": "code",
   "execution_count": 27,
   "metadata": {},
   "outputs": [],
   "source": [
    "final_df = real_label_eggs.merge(df)"
   ]
  },
  {
   "cell_type": "code",
   "execution_count": 28,
   "metadata": {},
   "outputs": [
    {
     "name": "stdout",
     "output_type": "stream",
     "text": [
      "Index(['N_OVO', 'OVOSCOPIA', 'TEMPO', 'observações', 'predict'], dtype='object')\n"
     ]
    }
   ],
   "source": [
    "print(final_df.columns)\n"
   ]
  },
  {
   "cell_type": "code",
   "execution_count": 29,
   "metadata": {},
   "outputs": [],
   "source": [
    "cf_matrix = confusion_matrix(final_df['OVOSCOPIA'], final_df['predict'])"
   ]
  },
  {
   "cell_type": "code",
   "execution_count": 30,
   "metadata": {},
   "outputs": [
    {
     "name": "stdout",
     "output_type": "stream",
     "text": [
      "              precision    recall  f1-score   support\n",
      "\n",
      "           1       0.23      0.92      0.36       184\n",
      "           2       0.37      0.05      0.09       312\n",
      "           3       0.00      0.00      0.00       210\n",
      "           4       0.00      0.00      0.00        94\n",
      "\n",
      "    accuracy                           0.23       800\n",
      "   macro avg       0.15      0.24      0.11       800\n",
      "weighted avg       0.20      0.23      0.12       800\n",
      "\n"
     ]
    }
   ],
   "source": [
    "report = classification_report(final_df['OVOSCOPIA'], final_df['predict'])\n",
    "print(report)"
   ]
  },
  {
   "cell_type": "code",
   "execution_count": 31,
   "metadata": {},
   "outputs": [],
   "source": [
    "analise_df = pd.read_excel(\"./analise.xlsx\")"
   ]
  },
  {
   "cell_type": "code",
   "execution_count": 32,
   "metadata": {},
   "outputs": [],
   "source": [
    "report = classification_report(final_df['OVOSCOPIA'], final_df['predict'], output_dict=True)\n",
    "report_df = pd.DataFrame(report).transpose()\n",
    "report_df.reset_index(inplace=True)\n",
    "report_df.rename(columns={'index': 'classification'}, inplace=True)\n",
    "\n",
    "\n",
    "last_index = analise_df['prompt'].last_valid_index()\n",
    "start_row = last_index + 2 if last_index is not None else 0\n",
    "\n",
    "while start_row + len(report_df) > len(analise_df):\n",
    "    new_row = pd.Series([None] * len(analise_df.columns), index=analise_df.columns)\n",
    "    analise_df = pd.concat([analise_df, new_row.to_frame().T], ignore_index=True)\n",
    "\n",
    "for col in ['classification', 'precision', 'recall', 'f1-score', 'support']:\n",
    "    if col in analise_df.columns:\n",
    "        analise_df.loc[start_row:start_row + len(report_df) - 1, col] = report_df[col].values\n",
    "\n",
    "analise_df.to_excel(\"./analise.xlsx\", index=False)"
   ]
  },
  {
   "cell_type": "code",
   "execution_count": 33,
   "metadata": {},
   "outputs": [
    {
     "name": "stdout",
     "output_type": "stream",
     "text": [
      "                                               prompt classification  \\\n",
      "0   \\n    A ovoscopia é um método utilizado para a...            NaN   \n",
      "1   \\n    A ovoscopia é um método utilizado para a...            NaN   \n",
      "2   \\n    A ovoscopia é um método utilizado para a...            NaN   \n",
      "3   \\nContexto: A ovoscopia é um método utilizado ...            NaN   \n",
      "4     \\nContexto:A ovoscopia é um método técnico u...            NaN   \n",
      "5   \\n    Analise as imagens, e classifique usando...            NaN   \n",
      "6   \\n    Analise as imagens, e classifique usando...            NaN   \n",
      "7   \\n    Analise as imagens, e classifique usando...            NaN   \n",
      "8   \\n    Analise as imagens, e classifique usando...            NaN   \n",
      "9   \\n    Analise as imagens, e classifique usando...            NaN   \n",
      "10  \\n    Analise as imagens, e classifique usando...              1   \n",
      "11                                                NaN              2   \n",
      "12                                                NaN              3   \n",
      "13                                                NaN              4   \n",
      "14                                                NaN       accuracy   \n",
      "15                                                NaN      macro avg   \n",
      "16                                                NaN   weighted avg   \n",
      "17                                                NaN            NaN   \n",
      "18                                                NaN            NaN   \n",
      "19  Analise as imagens, e classifique usando a esc...              1   \n",
      "20                                                NaN              2   \n",
      "21                                                NaN              3   \n",
      "22                                                NaN              4   \n",
      "23                                                NaN       accuracy   \n",
      "24                                                NaN      macro avg   \n",
      "25                                                NaN   weighted avg   \n",
      "26                                                NaN            NaN   \n",
      "27  Analise as imagens, e classifique usando a esc...            NaN   \n",
      "28                                                NaN            NaN   \n",
      "29                                                NaN              1   \n",
      "30                                                NaN              2   \n",
      "31                                                NaN              3   \n",
      "32                                                NaN              4   \n",
      "33                                                NaN       accuracy   \n",
      "34                                                NaN      macro avg   \n",
      "35                                                NaN   weighted avg   \n",
      "\n",
      "    precision    recall  f1-score   support  \n",
      "0         NaN       NaN       NaN       NaN  \n",
      "1         NaN       NaN       NaN       NaN  \n",
      "2         NaN       NaN       NaN       NaN  \n",
      "3         NaN       NaN       NaN       NaN  \n",
      "4         NaN       NaN       NaN       NaN  \n",
      "5         NaN       NaN       NaN       NaN  \n",
      "6         NaN       NaN       NaN       NaN  \n",
      "7         NaN       NaN       NaN       NaN  \n",
      "8         NaN       NaN       NaN       NaN  \n",
      "9         NaN       NaN       NaN       NaN  \n",
      "10   0.265734  0.826087  0.402116  184.0000  \n",
      "11   0.495413  0.346154  0.407547  312.0000  \n",
      "12   0.750000  0.028571  0.055046  210.0000  \n",
      "13   1.000000  0.021277  0.041667   94.0000  \n",
      "14   0.335000  0.335000  0.335000    0.3350  \n",
      "15   0.627787  0.305522  0.226594  800.0000  \n",
      "16   0.568705  0.335000  0.270776  800.0000  \n",
      "17        NaN       NaN       NaN       NaN  \n",
      "18        NaN       NaN       NaN       NaN  \n",
      "19   0.763780  0.898148  0.825532  108.0000  \n",
      "20   0.859375  0.679012  0.758621   81.0000  \n",
      "21   0.714286  0.555556  0.625000    9.0000  \n",
      "22   1.000000  1.000000  1.000000    2.0000  \n",
      "23   0.795000  0.795000  0.795000    0.7950  \n",
      "24   0.834360  0.783179  0.802288  200.0000  \n",
      "25   0.802631  0.795000  0.791154  200.0000  \n",
      "26        NaN       NaN       NaN       NaN  \n",
      "27        NaN       NaN       NaN       NaN  \n",
      "28        NaN       NaN       NaN       NaN  \n",
      "29   0.225464  0.923913  0.362473  184.0000  \n",
      "30   0.372093  0.051282  0.090141  312.0000  \n",
      "31   0.000000  0.000000  0.000000  210.0000  \n",
      "32   0.000000  0.000000  0.000000   94.0000  \n",
      "33   0.232500  0.232500  0.232500    0.2325  \n",
      "34   0.149389  0.243799  0.113154  800.0000  \n",
      "35   0.196973  0.232500  0.118524  800.0000  \n"
     ]
    }
   ],
   "source": [
    "print(analise_df)\n"
   ]
  }
 ],
 "metadata": {
  "kernelspec": {
   "display_name": ".venv",
   "language": "python",
   "name": "python3"
  },
  "language_info": {
   "codemirror_mode": {
    "name": "ipython",
    "version": 3
   },
   "file_extension": ".py",
   "mimetype": "text/x-python",
   "name": "python",
   "nbconvert_exporter": "python",
   "pygments_lexer": "ipython3",
   "version": "3.12.3"
  }
 },
 "nbformat": 4,
 "nbformat_minor": 2
}
